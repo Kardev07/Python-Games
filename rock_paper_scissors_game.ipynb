{
  "nbformat": 4,
  "nbformat_minor": 0,
  "metadata": {
    "colab": {
      "name": "rock-paper-scissors_game.ipynb",
      "provenance": [],
      "authorship_tag": "ABX9TyO8OCWSVRQE0oBizEAU5/cu",
      "include_colab_link": true
    },
    "kernelspec": {
      "name": "python3",
      "display_name": "Python 3"
    },
    "language_info": {
      "name": "python"
    }
  },
  "cells": [
    {
      "cell_type": "markdown",
      "metadata": {
        "id": "view-in-github",
        "colab_type": "text"
      },
      "source": [
        "<a href=\"https://colab.research.google.com/github/Kardev07/Python-Games/blob/main/rock_paper_scissors_game.ipynb\" target=\"_parent\"><img src=\"https://colab.research.google.com/assets/colab-badge.svg\" alt=\"Open In Colab\"/></a>"
      ]
    },
    {
      "cell_type": "code",
      "metadata": {
        "id": "pPBpI9rSUChW"
      },
      "source": [
        "#creating a rock paper scissors game without importing any library"
      ],
      "execution_count": null,
      "outputs": []
    },
    {
      "cell_type": "code",
      "metadata": {
        "id": "f7ZCTsl2UbEy"
      },
      "source": [
        "player_1 = input(\"enter your choice: \")\n",
        "player_2 = input(\"enter your choice: \")\n",
        "#possibility_1: where player_1 is a rock and player_2 is a scissor\n",
        "if (player_1.lower() == \"rock\") and (player_2.lower() == \"scissor\"):\n",
        "  print(\"player_1 wins\")\n",
        "\n",
        "#possibility_2: where player_1 is a scissor and player_2 is a rock\n",
        "elif (player_1.lower() == \"scissor\") and (player_2.lower() == \"rock\"):\n",
        "  print(\"player_2 wins\")\n",
        "\n",
        "#possibility_3: where player_1 is a paper and player_2 is a scissor\n",
        "elif (player_1.lower() == \"paper\") and (player_2.lower() == \"scissor\"):\n",
        "  print(\"player_2 wins\")\n",
        "\n",
        "#possibility_4: where player_1 is a scissor and player_2 is a paper\n",
        "elif (player_1.lower() == \"scissor\") and (player_2.lower() == \"paper\"):\n",
        "  print(\"player_1 wins\")\n",
        "\n",
        "#possibility_5: where player_1 is a paper and player_2 is a rock\n",
        "elif (player_1.lower() == \"paper\") and (player_2.lower() == \"rock\"):\n",
        "  print(\"player_1 wins\")\n",
        "\n",
        "#possibility_6: where player_1 is a rock and player_2 is a paper\n",
        "elif (player_1.lower() == \"rock\") and (player_2.lower() == \"paper\"):\n",
        "  print(\"player_2 wins\")\n",
        "\n",
        "#possibility_7: the input given by player_1 is not either of rock, paper of scissors\n",
        "elif (player_1.lower() != \"rock\") and (player_1.lower() != \"paper\") and (player_1.lower() != \"scissor\"):\n",
        "  if (player_1.lower() != \"rock\") and (player_1.lower() != \"paper\") and (player_1.lower() != \"scissor\") and (player_2.lower() != \"rock\") and (player_2.lower() != \"paper\") and (player_2.lower() != \"scissor\"):\n",
        "    print(\"both the inputs given by player_1 and player_2 are invalid\")\n",
        "\n",
        "  else:\n",
        "    print(\"the input given by player_1 is invalid\")\n",
        "      \n",
        "#possibility_8: the input given by player_2 is not either of rock, paper of scissors\n",
        "elif (player_2.lower() != \"rock\") and (player_2.lower() != \"paper\") and (player_2.lower() != \"scissor\"):\n",
        "  print(\"the input given by player_2 is invalid\")\n",
        "\n",
        "\n",
        "\n",
        "\n",
        "\n",
        "\n",
        "\n",
        "\n",
        "\n",
        "\n",
        "\n",
        "\n",
        " \n",
        "\n",
        "  \n"
      ],
      "execution_count": null,
      "outputs": []
    }
  ]
}